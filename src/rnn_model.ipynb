{
 "cells": [
  {
   "cell_type": "code",
   "execution_count": null,
   "metadata": {},
   "outputs": [],
   "source": [
    "from common import clean_descriptions, samples_to_dict\n",
    "from RNNDecoder import RNNModel"
   ]
  },
  {
   "cell_type": "code",
   "execution_count": null,
   "metadata": {},
   "outputs": [],
   "source": [
    "''' \n",
    "get the actual rows from the df corresponding to the different sets\n",
    "'''\n",
    "# get the samples with the given filenames\n",
    "training_samples = clean_descriptions('../data/flickr_8k/train.csv')\n",
    "validation_samples = clean_descriptions('../data/flickr_8k/validation.csv')\n",
    "test_samples = clean_descriptions('../data/flickr_8k/test.csv')\n",
    "train_and_val_samples = clean_descriptions('../data/flickr_8k/train_and_val.csv')\n",
    "small_train_samples = clean_descriptions('../data/flickr_8k/small_train.csv')"
   ]
  },
  {
   "cell_type": "code",
   "execution_count": null,
   "metadata": {},
   "outputs": [],
   "source": [
    "training_dict = samples_to_dict(training_samples)\n",
    "validation_dict = samples_to_dict(validation_samples)\n",
    "test_dict = samples_to_dict(test_samples)\n",
    "train_and_val_dict = samples_to_dict(train_and_val_samples)\n",
    "small_train_dict = samples_to_dict(small_train_samples)"
   ]
  },
  {
   "cell_type": "code",
   "execution_count": null,
   "metadata": {},
   "outputs": [],
   "source": []
  },
  {
   "cell_type": "code",
   "execution_count": null,
   "metadata": {},
   "outputs": [],
   "source": [
    "'''\n",
    "\n",
    "EXAMPLE of creating and training and saving a model\n",
    "\n",
    "'''\n",
    "# test_model = RNNModel(False, small_train_samples)\n",
    "# test_model.train_save_model(input_dict=small_train_dict, save_path='../models/testRNNmodelDELETE', epochs=1)\n"
   ]
  },
  {
   "cell_type": "code",
   "execution_count": null,
   "metadata": {},
   "outputs": [],
   "source": [
    "'''\n",
    "\n",
    "EXAMPLE of creating and loading a model\n",
    "\n",
    "'''\n",
    "# test_model_2 = RNNModel(False, small_train_samples) \n",
    "# test_model_2.load('../models/testRNNmodelDELETE')"
   ]
  },
  {
   "cell_type": "code",
   "execution_count": null,
   "metadata": {},
   "outputs": [],
   "source": [
    "\n"
   ]
  },
  {
   "cell_type": "code",
   "execution_count": null,
   "metadata": {},
   "outputs": [],
   "source": [
    "'''\n",
    "generate an RNN with dropout, and one without \n",
    "(a logistic decoder model will also be generated for testing in logistic_model.ipynb)\n",
    "\n",
    "we will compare these against each other in a separate file\n",
    "'''\n",
    "\n",
    "# these two lines of code generate two of our model types\n",
    "# create_train_save_model(generate_RNN, small_train_dict, save_path='models/compare_3_models/RNN_no_dropout', epochs=5, optimizer='adam')\n",
    "# create_train_save_model(generate_RNN_with_dropout, small_train_dict, save_path='models/compare_3_models/RNN_with_dropout', epochs=5, optimizer='adam')\n",
    "\n",
    "# these lines of code load the model and generate captions for the validation set\n",
    "# adam_10_epochs = load_model('small_train_10_epochs_adam')\n",
    "# adam_10_epochs_captions = generate_captions_for_files(adam_10_epochs, VALIDATION_FILENAMES)\n"
   ]
  },
  {
   "cell_type": "code",
   "execution_count": null,
   "metadata": {},
   "outputs": [],
   "source": [
    "'''\n",
    "generate a few RNN models to evaluate with different hyperparameters\n",
    "'''\n",
    "# train_save_model(, small_training_dict, save_path='models/hyperparameter_tuning/small_train_5_epochs_adam', epochs=5, optimizer='adam')\n",
    "# train_save_model(, small_training_dict, save_path='models/hyperparameter_tuning/small_train_5_epochs_sgd', epochs=5, optimizer='sgd')\n",
    "# train_save_model(, small_training_dict, save_path='models/hyperparameter_tuning/small_train_10_epochs_adam', epochs=10, optimizer='adam')\n",
    "# train_save_model(, small_training_dict, save_path='models/hyperparameter_tuning/small_train_10_epochs_sgd', epochs=10, optimizer='sgd')"
   ]
  },
  {
   "cell_type": "code",
   "execution_count": null,
   "metadata": {},
   "outputs": [],
   "source": [
    "'''\n",
    "load a model in from a saved folder\n",
    "'''\n",
    "# adam_5_epochs = load_model('RNNs_no_dropout/small_train_5_epochs_adam')\n",
    "# adam_5_epochs_captions = generate_captions_for_files(adam_5_epochs, VALIDATION_FILENAMES)\n",
    "\n",
    "# adam_10_epochs = load_model('small_train_10_epochs_adam')\n",
    "# adam_10_epochs_captions = generate_captions_for_files(adam_10_epochs, VALIDATION_FILENAMES)\n",
    "\n",
    "# sgd_5_epochs = load_model('small_train_5_epochs_sgd')\n",
    "# sgd_5_epochs_captions = generate_captions_for_files(sgd_5_epochs, VALIDATION_FILENAMES)\n",
    "\n",
    "# sgd_10_epochs = load_model('small_train_10_epochs_sgd')\n",
    "# sgd_10_epochs_captions = generate_captions_for_files(sgd_10_epochs, VALIDATION_FILENAMES)"
   ]
  },
  {
   "cell_type": "code",
   "execution_count": null,
   "metadata": {},
   "outputs": [],
   "source": [
    "# adam_5_epochs_captions[7], VALIDATION_FILENAMES[7]"
   ]
  },
  {
   "cell_type": "code",
   "execution_count": null,
   "metadata": {},
   "outputs": [],
   "source": [
    "val_captions = list(validation_dict.values())\n",
    "\n",
    "# print('Model BLEU scores for 5 epochs, adam optimizer:')\n",
    "# adam_5_bleus = corpus_bleu_score(val_captions, adam_5_epochs_captions)\n",
    "\n",
    "# print('Model BLEU scores for 10 epochs, adam optimizer:')\n",
    "# adam_10_bleus = corpus_bleu_score(val_captions, adam_10_epochs_captions)\n",
    "\n",
    "# print('Model BLEU scores for 5 epochs, sgd optimizer:')\n",
    "# sgd_5_bleus = corpus_bleu_score(val_captions, sgd_5_epochs_captions)\n",
    "\n",
    "# print('Model BLEU scores for 10 epochs, sgd optimizer:')\n",
    "# sgd_10_bleus = corpus_bleu_score(val_captions, sgd_10_epochs_captions)"
   ]
  }
 ],
 "metadata": {
  "kernelspec": {
   "display_name": "Python 3.7.15 ('tf-gpu')",
   "language": "python",
   "name": "python3"
  },
  "language_info": {
   "codemirror_mode": {
    "name": "ipython",
    "version": 3
   },
   "file_extension": ".py",
   "mimetype": "text/x-python",
   "name": "python",
   "nbconvert_exporter": "python",
   "pygments_lexer": "ipython3",
   "version": "3.7.15"
  },
  "orig_nbformat": 4,
  "vscode": {
   "interpreter": {
    "hash": "5f0184f448d6494873b5885b7cafa76c11f0e318a0940098d9222ca8536d4b3b"
   }
  }
 },
 "nbformat": 4,
 "nbformat_minor": 2
}

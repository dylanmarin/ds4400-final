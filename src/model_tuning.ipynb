{
 "cells": [
  {
   "cell_type": "code",
   "execution_count": null,
   "metadata": {},
   "outputs": [],
   "source": []
  },
  {
   "cell_type": "code",
   "execution_count": null,
   "metadata": {},
   "outputs": [],
   "source": [
    "'''\n",
    "load logistic model\n",
    "\n",
    "get bleu score on validation set\n",
    "'''\n",
    "logistic_decoder = LogisticDecoder(12, get_tokenizer_from_samples(small_train_samples))\n",
    "logistic_decoder.load('../models/compare_3_models/logistic_model')\n",
    "\n"
   ]
  },
  {
   "cell_type": "code",
   "execution_count": null,
   "metadata": {},
   "outputs": [],
   "source": [
    "'''\n",
    "load RNN without dropout\n",
    "\n",
    "get bleu score on validation set\n",
    "'''"
   ]
  },
  {
   "cell_type": "code",
   "execution_count": null,
   "metadata": {},
   "outputs": [],
   "source": [
    "'''\n",
    "load RNN with dropout layers\n",
    "\n",
    "get bleu score on validation set\n",
    "'''"
   ]
  },
  {
   "cell_type": "code",
   "execution_count": null,
   "metadata": {},
   "outputs": [],
   "source": [
    "'''\n",
    "Note:\n",
    "\n",
    "best model was ______\n",
    "\n",
    "now do hyperparameter tuning on best model\n",
    "'''"
   ]
  }
 ],
 "metadata": {
  "kernelspec": {
   "display_name": "Python 3.9.8 64-bit",
   "language": "python",
   "name": "python3"
  },
  "language_info": {
   "name": "python",
   "version": "3.9.8"
  },
  "orig_nbformat": 4,
  "vscode": {
   "interpreter": {
    "hash": "df73e8a5a6ad61866236c15d5c50524f882bd7d8189f3a360607bc3ff1fd437b"
   }
  }
 },
 "nbformat": 4,
 "nbformat_minor": 2
}
